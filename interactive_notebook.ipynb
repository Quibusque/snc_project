{
 "cells": [
  {
   "cell_type": "markdown",
   "metadata": {},
   "source": [
    "# Image recognition algorithm: climate regions of streetview panoramas"
   ]
  },
  {
   "cell_type": "markdown",
   "metadata": {},
   "source": [
    "##### to run this in google colab: git clone the repo and use google drive to save results\n",
    "##### it is recommended to use a GPU runtime"
   ]
  },
  {
   "cell_type": "code",
   "execution_count": null,
   "metadata": {},
   "outputs": [],
   "source": [
    "!git clone https://github.com/Quibusque/snc_project\n",
    "!mv snc_project/* ."
   ]
  },
  {
   "cell_type": "code",
   "execution_count": null,
   "metadata": {},
   "outputs": [],
   "source": [
    "import os\n",
    "import tensorflow as tf\n",
    "\n",
    "from source.training import train_model, build_model, build_dataset\n",
    "from source.utils import (\n",
    "    prepare_dataframe_and_files_for_training,\n",
    "    reset_images_position,\n",
    "    make_labelled_dataframe,\n",
    ")\n",
    "from source.metrics import confusion_matrix, save_class_metrics\n",
    "from source.plots import confusion_matrix_plot, accuracy_loss_plot"
   ]
  },
  {
   "cell_type": "code",
   "execution_count": null,
   "metadata": {},
   "outputs": [],
   "source": [
    "from google.colab import drive\n",
    "\n",
    "drive.mount(\"/content/drive\")"
   ]
  },
  {
   "cell_type": "markdown",
   "metadata": {},
   "source": [
    "##### download the dataset from kaggle. You must use your personal username and key"
   ]
  },
  {
   "cell_type": "code",
   "execution_count": null,
   "metadata": {},
   "outputs": [],
   "source": [
    "!pip install opendatasets"
   ]
  },
  {
   "cell_type": "code",
   "execution_count": null,
   "metadata": {},
   "outputs": [],
   "source": [
    "import opendatasets\n",
    "\n",
    "opendatasets.download(\n",
    "    \"https://www.kaggle.com/datasets/nikitricky/streetview-photospheres\"\n",
    ")"
   ]
  },
  {
   "cell_type": "markdown",
   "metadata": {},
   "source": [
    "##### setup the directories and csv path (defaults should be correct)"
   ]
  },
  {
   "cell_type": "code",
   "execution_count": null,
   "metadata": {},
   "outputs": [],
   "source": [
    "main_dir = \"streetview-photospheres\"\n",
    "img_dir = os.path.join(main_dir, \"images\")\n",
    "csv_path = os.path.join(main_dir, \"images.csv\")\n",
    "bad_img_dir = os.path.join(main_dir, \"bad_images\")\n",
    "test_img_dir = os.path.join(main_dir, \"test_images\")"
   ]
  },
  {
   "cell_type": "markdown",
   "metadata": {},
   "source": [
    "##### setup the checkpoint directory (here we use google drive)"
   ]
  },
  {
   "cell_type": "code",
   "execution_count": null,
   "metadata": {},
   "outputs": [],
   "source": [
    "checkpoint_dir = \"/content/drive/MyDrive/checkpoints/\""
   ]
  },
  {
   "cell_type": "markdown",
   "metadata": {},
   "source": [
    "(optional) reset image file positions if you have already run the code before"
   ]
  },
  {
   "cell_type": "code",
   "execution_count": null,
   "metadata": {},
   "outputs": [],
   "source": [
    "reset_images_position(img_dir, bad_img_dir, test_img_dir)"
   ]
  },
  {
   "cell_type": "markdown",
   "metadata": {},
   "source": [
    "##### create the dataframe with images and labels"
   ]
  },
  {
   "cell_type": "code",
   "execution_count": null,
   "metadata": {},
   "outputs": [],
   "source": [
    "df, name_dict = make_labelled_dataframe(csv_path, img_dir)"
   ]
  },
  {
   "cell_type": "markdown",
   "metadata": {},
   "source": [
    "##### see what the most populated regions are, to choose those with a large enough number of images"
   ]
  },
  {
   "cell_type": "code",
   "execution_count": null,
   "metadata": {},
   "outputs": [],
   "source": [
    "num_entries_to_print = 15\n",
    "print(df['label'].value_counts().head(num_entries_to_print))"
   ]
  },
  {
   "cell_type": "markdown",
   "metadata": {},
   "source": [
    "\n",
    "### Multi-MIP Climate Change ATLAS reference regions\n",
    "![Multi-MIP Climate Change ATLAS reference regions](https://raw.githubusercontent.com/SantanderMetGroup/ATLAS/main/reference-regions/reference_regions_names.png)"
   ]
  },
  {
   "cell_type": "markdown",
   "metadata": {},
   "source": [
    "##### choose your labels (they should have a reasonably high number of entries)"
   ]
  },
  {
   "cell_type": "code",
   "execution_count": null,
   "metadata": {},
   "outputs": [],
   "source": [
    "chosen_labels = [5, 17, 16, 19, 4, 39, 38]\n",
    "num_classes = len(chosen_labels)\n",
    "label_map = {num: index for index, num in enumerate(chosen_labels)}"
   ]
  },
  {
   "cell_type": "markdown",
   "metadata": {},
   "source": [
    "##### choose how many images to use for training for each label (excess images will be used later for testing)"
   ]
  },
  {
   "cell_type": "code",
   "execution_count": null,
   "metadata": {},
   "outputs": [],
   "source": [
    "samples_per_label = 9000"
   ]
  },
  {
   "cell_type": "markdown",
   "metadata": {},
   "source": [
    "##### choose some parameters (model name is used for saved files with results)"
   ]
  },
  {
   "cell_type": "code",
   "execution_count": null,
   "metadata": {},
   "outputs": [],
   "source": [
    "seed = 42\n",
    "model_name = \"my_model\"\n",
    "# savedir is used to save results\n",
    "save_dir = os.path.join(checkpoint_dir, \"results\", model_name)"
   ]
  },
  {
   "cell_type": "code",
   "execution_count": null,
   "metadata": {},
   "outputs": [],
   "source": [
    "df_good, df_test = prepare_dataframe_and_files_for_training(\n",
    "    df,\n",
    "    chosen_labels,\n",
    "    img_dir,\n",
    "    bad_img_dir,\n",
    "    test_img_dir,\n",
    "    samples_per_label,\n",
    "    seed,\n",
    ")"
   ]
  },
  {
   "cell_type": "markdown",
   "metadata": {},
   "source": [
    "##### build training, validation and test datasets"
   ]
  },
  {
   "cell_type": "code",
   "execution_count": null,
   "metadata": {},
   "outputs": [],
   "source": [
    "tra_ds, val_ds = build_dataset(\n",
    "    img_dir, df_good, label_map, shuffle=True, seed=seed, validation_split=0.2\n",
    ")"
   ]
  },
  {
   "cell_type": "code",
   "execution_count": null,
   "metadata": {},
   "outputs": [],
   "source": [
    "test_ds = build_dataset(\n",
    "    test_img_dir, df_test, label_map, shuffle=False, seed=None, validation_split=None\n",
    ")"
   ]
  },
  {
   "cell_type": "markdown",
   "metadata": {},
   "source": [
    "##### choose parameters for the model (defaults are ok)"
   ]
  },
  {
   "cell_type": "code",
   "execution_count": null,
   "metadata": {},
   "outputs": [],
   "source": [
    "metric = tf.keras.metrics.SparseCategoricalAccuracy(name=\"accuracy\")\n",
    "loss = tf.keras.losses.SparseCategoricalCrossentropy()\n",
    "dropout_rate = 0.2\n",
    "epochs = 10\n",
    "model = build_model(num_classes, metric, loss, dropout_rate)"
   ]
  },
  {
   "cell_type": "markdown",
   "metadata": {},
   "source": [
    "##### train the model"
   ]
  },
  {
   "cell_type": "code",
   "execution_count": null,
   "metadata": {},
   "outputs": [],
   "source": [
    "history = train_model(\n",
    "    model,\n",
    "    tra_ds,\n",
    "    val_ds,\n",
    "    epochs,\n",
    "    model_name,\n",
    "    checkpoint_dir)"
   ]
  },
  {
   "cell_type": "markdown",
   "metadata": {},
   "source": [
    "##### plot and save accuracy and loss curves over epochs"
   ]
  },
  {
   "cell_type": "code",
   "execution_count": null,
   "metadata": {},
   "outputs": [],
   "source": [
    "accuracy_loss_plot(history,model,model_name,save_dir)"
   ]
  },
  {
   "cell_type": "markdown",
   "metadata": {},
   "source": [
    "##### plot and save confusion matrix on validation dataset"
   ]
  },
  {
   "cell_type": "code",
   "execution_count": null,
   "metadata": {},
   "outputs": [],
   "source": [
    "matrix_val = confusion_matrix(val_ds, model, num_classes)\n",
    "confusion_matrix_plot(matrix_val, \"row\", name_dict, chosen_labels, model_name, save_dir)"
   ]
  },
  {
   "cell_type": "markdown",
   "metadata": {},
   "source": [
    "##### plot and save confusion matrix on test dataset"
   ]
  },
  {
   "cell_type": "code",
   "execution_count": null,
   "metadata": {},
   "outputs": [],
   "source": [
    "matrix_test = confusion_matrix(test_ds, model, num_classes)\n",
    "confusion_matrix_plot(\n",
    "    matrix_test, \"row\", name_dict, chosen_labels, model_name, save_dir\n",
    ")"
   ]
  },
  {
   "cell_type": "markdown",
   "metadata": {},
   "source": [
    "##### save class metrics (accuracy, loss and f1score) on the test dataset"
   ]
  },
  {
   "cell_type": "code",
   "execution_count": null,
   "metadata": {},
   "outputs": [],
   "source": [
    "save_class_metrics(matrix_test,save_dir,model_name)"
   ]
  }
 ],
 "metadata": {
  "kernelspec": {
   "display_name": "ml",
   "language": "python",
   "name": "python3"
  },
  "language_info": {
   "codemirror_mode": {
    "name": "ipython",
    "version": 3
   },
   "file_extension": ".py",
   "mimetype": "text/x-python",
   "name": "python",
   "nbconvert_exporter": "python",
   "pygments_lexer": "ipython3",
   "version": "3.11.4"
  },
  "orig_nbformat": 4
 },
 "nbformat": 4,
 "nbformat_minor": 2
}
